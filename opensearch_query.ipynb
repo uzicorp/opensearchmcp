{
 "cells": [
  {
   "cell_type": "markdown",
   "metadata": {},
   "source": [
    "# OpenSearch Query Notebook\n",
    "\n",
    "This notebook demonstrates how to connect to a running OpenSearch instance and execute queries.\n"
   ]
  },
  {
   "cell_type": "code",
   "metadata": {
    "ExecuteTime": {
     "end_time": "2025-09-24T15:58:04.138524Z",
     "start_time": "2025-09-24T15:58:02.583040Z"
    }
   },
   "source": [
    "from opensearchpy import OpenSearch\n",
    "import os\n",
    "\n",
    "# OpenSearch connection details\n",
    "host = os.getenv(\"OPENSEARCH_HOST\", \"localhost\")\n",
    "port = int(os.getenv(\"OPENSEARCH_PORT\", \"9200\"))\n",
    "\n",
    "# Create the client\n",
    "client = OpenSearch(\n",
    "    hosts=[{\"host\": host, \"port\": port}],\n",
    "    http_compress=True,\n",
    "    use_ssl=False,\n",
    "    verify_certs=False,\n",
    "    ssl_assert_hostname=False,\n",
    "    ssl_show_warn=False,\n",
    ")\n",
    "\n",
    "# Test connection\n",
    "try:\n",
    "    info = client.info()\n",
    "    print(f\"Connected to OpenSearch: {info}\")\n",
    "except Exception as e:\n",
    "    print(f\"Could not connect to OpenSearch: {e}\")"
   ],
   "outputs": [
    {
     "name": "stdout",
     "output_type": "stream",
     "text": [
      "Connected to OpenSearch: {'name': '9dca2739160b', 'cluster_name': 'opensearch-docker-cluster', 'cluster_uuid': '5RMj-EPnQCiDM2-Iqpd-YQ', 'version': {'distribution': 'opensearch', 'number': '3.2.0', 'build_type': 'tar', 'build_hash': '6adc0bf476e1624190564d7fbe4aba00ccf49ad8', 'build_date': '2025-08-12T03:55:01.226522683Z', 'build_snapshot': False, 'lucene_version': '10.2.2', 'minimum_wire_compatibility_version': '2.19.0', 'minimum_index_compatibility_version': '2.0.0'}, 'tagline': 'The OpenSearch Project: https://opensearch.org/'}\n"
     ]
    }
   ],
   "execution_count": 2
  },
  {
   "cell_type": "code",
   "metadata": {
    "ExecuteTime": {
     "end_time": "2025-09-24T15:58:23.901865Z",
     "start_time": "2025-09-24T15:58:23.864719Z"
    }
   },
   "source": [
    "# Query for all documents\n",
    "index_name = \"documents\"\n",
    "search_body = {\"query\": {\"match_all\": {}}}\n",
    "\n",
    "response = client.search(index=index_name, body=search_body)\n",
    "print(\"Search Results:\")\n",
    "for hit in response[\"hits\"][\"hits\"]:\n",
    "    print(f\"ID: {hit['_id']}, Title: {hit['_source']['title']}\")"
   ],
   "outputs": [
    {
     "name": "stdout",
     "output_type": "stream",
     "text": [
      "Search Results:\n",
      "ID: tSLPe5kBliW_qDeLghGZ, Title: attention_is_all_you_need.pdf\n"
     ]
    }
   ],
   "execution_count": 3
  },
  {
   "cell_type": "code",
   "metadata": {
    "ExecuteTime": {
     "end_time": "2025-09-24T16:29:56.998875Z",
     "start_time": "2025-09-24T16:29:56.982486Z"
    }
   },
   "source": [
    "## BM25 Query\n",
    "\n",
    "search_term = \"attention mechanism\"\n",
    "\n",
    "bm25_query = {\n",
    "    \"size\": 5,\n",
    "    \"query\": {\"match\": {\"text_content\": search_term}},\n",
    "    \"_source\": [\"title\", \"text_content\"],\n",
    "}\n",
    "\n",
    "response = client.search(index=index_name, body=bm25_query)\n",
    "print(\"\\nBM25 Search Results:\")\n",
    "for hit in response[\"hits\"][\"hits\"]:\n",
    "    print(f\"ID: {hit['_id']}, Score: {hit['_score']}, Title: {hit['_source']['title']}\")"
   ],
   "outputs": [
    {
     "name": "stdout",
     "output_type": "stream",
     "text": [
      "\n",
      "BM25 Search Results:\n",
      "ID: tSLPe5kBliW_qDeLghGZ, Score: 0.52425647, Title: attention_is_all_you_need.pdf\n"
     ]
    }
   ],
   "execution_count": 5
  },
  {
   "metadata": {},
   "cell_type": "code",
   "outputs": [],
   "execution_count": null,
   "source": ""
  },
  {
   "cell_type": "markdown",
   "metadata": {},
   "source": [
    "## K-NN Search\n",
    "\n",
    "To perform a k-NN search, you'll need to generate an embedding for your query text using the same BGE model. Then, you can query OpenSearch using that embedding.\n"
   ]
  },
  {
   "cell_type": "code",
   "metadata": {
    "ExecuteTime": {
     "end_time": "2025-09-24T16:30:01.477763Z",
     "start_time": "2025-09-24T16:29:59.758302Z"
    }
   },
   "source": [
    "from transformers import AutoModel, AutoTokenizer\n",
    "import torch\n",
    "\n",
    "# Load the BGE model and tokenizer (ensure these are available in your environment)\n",
    "tokenizer = AutoTokenizer.from_pretrained(\"BAAI/bge-small-en-v1.5\")\n",
    "model = AutoModel.from_pretrained(\"BAAI/bge-small-en-v1.5\")\n",
    "\n",
    "\n",
    "def get_embedding(text):\n",
    "    encoded_input = tokenizer(text, padding=True, truncation=True, return_tensors=\"pt\")\n",
    "    with torch.no_grad():\n",
    "        model_output = model(**encoded_input)\n",
    "    sentence_embeddings = model_output[0][:, 0]\n",
    "    sentence_embeddings = torch.nn.functional.normalize(sentence_embeddings, p=2, dim=1)\n",
    "    return sentence_embeddings.tolist()[0]\n",
    "\n",
    "\n",
    "# Example k-NN search\n",
    "query_text = \"What is attention mechanism?\"\n",
    "query_embedding = get_embedding(query_text)\n",
    "\n",
    "knn_query = {\n",
    "    \"size\": 2,\n",
    "    \"query\": {\"knn\": {\"embedding\": {\"vector\": query_embedding, \"k\": 2}}},\n",
    "    \"_source\": [\"title\", \"text_content\"],\n",
    "}\n",
    "\n",
    "response = client.search(index=index_name, body=knn_query)\n",
    "print(\"K-NN Search Results:\")\n",
    "for hit in response[\"hits\"][\"hits\"]:\n",
    "    print(f\"ID: {hit['_id']}, Score: {hit['_score']}, Title: {hit['_source']['title']}\")"
   ],
   "outputs": [
    {
     "name": "stderr",
     "output_type": "stream",
     "text": [
      "/home/usman/Dropbox/Work/Astrazenica/opensearchmcp/.venv/lib/python3.13/site-packages/tqdm/auto.py:21: TqdmWarning: IProgress not found. Please update jupyter and ipywidgets. See https://ipywidgets.readthedocs.io/en/stable/user_install.html\n",
      "  from .autonotebook import tqdm as notebook_tqdm\n"
     ]
    },
    {
     "name": "stdout",
     "output_type": "stream",
     "text": [
      "K-NN Search Results:\n",
      "ID: tSLPe5kBliW_qDeLghGZ, Score: 0.56621206, Title: attention_is_all_you_need.pdf\n"
     ]
    }
   ],
   "execution_count": 6
  },
  {
   "cell_type": "code",
   "metadata": {
    "ExecuteTime": {
     "end_time": "2025-09-24T16:30:08.948650Z",
     "start_time": "2025-09-24T16:30:08.906641Z"
    }
   },
   "source": [
    "## Hybrid (BM25 + Dense Vector) Query\n",
    "\n",
    "# Hybrid query (combining BM25 and k-NN)\n",
    "hybrid_query_text = \"How does machine learning work?\"\n",
    "hybrid_query_embedding = get_embedding(hybrid_query_text)\n",
    "\n",
    "hybrid_query = {\n",
    "    \"size\": 5,\n",
    "    \"query\": {\n",
    "        \"bool\": {\n",
    "            \"must\": [{\"match\": {\"text_content\": hybrid_query_text}}],\n",
    "            \"should\": [\n",
    "                {\"knn\": {\"embedding\": {\"vector\": hybrid_query_embedding, \"k\": 5}}}\n",
    "            ],\n",
    "        }\n",
    "    },\n",
    "    \"_source\": [\"title\", \"text_content\", \"_score\"],\n",
    "}\n",
    "\n",
    "response = client.search(index=index_name, body=hybrid_query)\n",
    "print(\"\\nHybrid Search Results:\")\n",
    "for hit in response[\"hits\"][\"hits\"]:\n",
    "    print(f\"ID: {hit['_id']}, Score: {hit['_score']}, Title: {hit['_source']['title']}\")"
   ],
   "outputs": [
    {
     "name": "stdout",
     "output_type": "stream",
     "text": [
      "\n",
      "Hybrid Search Results:\n",
      "ID: tSLPe5kBliW_qDeLghGZ, Score: 1.3661793, Title: attention_is_all_you_need.pdf\n"
     ]
    }
   ],
   "execution_count": 7
  }
 ],
 "metadata": {
  "language_info": {
   "name": "python"
  },
  "kernelspec": {
   "name": "python3",
   "language": "python",
   "display_name": "Python 3 (ipykernel)"
  }
 },
 "nbformat": 4,
 "nbformat_minor": 2
}
