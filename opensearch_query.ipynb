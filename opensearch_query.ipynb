{
 "cells": [
  {
   "cell_type": "markdown",
   "metadata": {},
   "source": [
    "# OpenSearch Query Notebook\n",
    "\n",
    "This notebook demonstrates how to connect to a running OpenSearch instance and execute queries.\n"
   ]
  },
  {
   "cell_type": "code",
   "execution_count": null,
   "metadata": {},
   "outputs": [],
   "source": [
    "from opensearchpy import OpenSearch\n",
    "import os\n",
    "\n",
    "# OpenSearch connection details\n",
    "host = os.getenv(\"OPENSEARCH_HOST\", \"localhost\")\n",
    "port = int(os.getenv(\"OPENSEARCH_PORT\", \"9200\"))\n",
    "\n",
    "# Create the client\n",
    "client = OpenSearch(\n",
    "    hosts=[{\"host\": host, \"port\": port}],\n",
    "    http_compress=True,\n",
    "    use_ssl=False,\n",
    "    verify_certs=False,\n",
    "    ssl_assert_hostname=False,\n",
    "    ssl_show_warn=False,\n",
    ")\n",
    "\n",
    "# Test connection\n",
    "try:\n",
    "    info = client.info()\n",
    "    print(f\"Connected to OpenSearch: {info}\")\n",
    "except Exception as e:\n",
    "    print(f\"Could not connect to OpenSearch: {e}\")"
   ]
  },
  {
   "cell_type": "code",
   "execution_count": null,
   "metadata": {},
   "outputs": [],
   "source": [
    "# Query for all documents\n",
    "index_name = \"documents\"\n",
    "search_body = {\"query\": {\"match_all\": {}}}\n",
    "\n",
    "response = client.search(index=index_name, body=search_body)\n",
    "print(\"Search Results:\")\n",
    "for hit in response[\"hits\"][\"hits\"]:\n",
    "    print(f\"ID: {hit['_id']}, Title: {hit['_source']['title']}\")"
   ]
  },
  {
   "cell_type": "markdown",
   "metadata": {},
   "source": [
    "## K-NN Search\n",
    "\n",
    "To perform a k-NN search, you'll need to generate an embedding for your query text using the same BGE model. Then, you can query OpenSearch using that embedding.\n"
   ]
  },
  {
   "cell_type": "code",
   "execution_count": null,
   "metadata": {},
   "outputs": [],
   "source": [
    "from transformers import AutoModel, AutoTokenizer\n",
    "import torch\n",
    "\n",
    "# Load the BGE model and tokenizer (ensure these are available in your environment)\n",
    "tokenizer = AutoTokenizer.from_pretrained(\"BAAI/bge-small-en-v1.5\")\n",
    "model = AutoModel.from_pretrained(\"BAAI/bge-small-en-v1.5\")\n",
    "\n",
    "\n",
    "def get_embedding(text):\n",
    "    encoded_input = tokenizer(text, padding=True, truncation=True, return_tensors=\"pt\")\n",
    "    with torch.no_grad():\n",
    "        model_output = model(**encoded_input)\n",
    "    sentence_embeddings = model_output[0][:, 0]\n",
    "    sentence_embeddings = torch.nn.functional.normalize(sentence_embeddings, p=2, dim=1)\n",
    "    return sentence_embeddings.tolist()[0]\n",
    "\n",
    "\n",
    "# Example k-NN search\n",
    "query_text = \"What is attention mechanism?\"\n",
    "query_embedding = get_embedding(query_text)\n",
    "\n",
    "knn_query = {\n",
    "    \"size\": 2,\n",
    "    \"query\": {\"knn\": {\"embedding\": {\"vector\": query_embedding, \"k\": 2}}},\n",
    "    \"_source\": [\"title\", \"text_content\"],\n",
    "}\n",
    "\n",
    "response = client.search(index=index_name, body=knn_query)\n",
    "print(\"K-NN Search Results:\")\n",
    "for hit in response[\"hits\"][\"hits\"]:\n",
    "    print(f\"ID: {hit['_id']}, Score: {hit['_score']}, Title: {hit['_source']['title']}\")"
   ]
  }
 ],
 "metadata": {
  "language_info": {
   "name": "python"
  }
 },
 "nbformat": 4,
 "nbformat_minor": 2
}
